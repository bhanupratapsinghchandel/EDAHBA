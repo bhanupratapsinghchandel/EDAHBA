{
  "cells": [
    {
      "cell_type": "markdown",
      "metadata": {
        "id": "view-in-github",
        "colab_type": "text"
      },
      "source": [
        "<a href=\"https://colab.research.google.com/github/bhanupratapsinghchandel/EDAHBA/blob/main/Bhanu_Pratap_SINGH_!_PASSWORD_GENERATOR_PROGRAM(PYTHON)%F0%9F%98%80%F0%9F%98%B5.ipynb\" target=\"_parent\"><img src=\"https://colab.research.google.com/assets/colab-badge.svg\" alt=\"Open In Colab\"/></a>"
      ]
    },
    {
      "cell_type": "code",
      "source": [
        "#                              PASSWORD GENERATOR PROGRAM\n",
        "\n",
        "import random\n",
        "letters = [\"a\", \"b\", \"c\", \"d\", \"e\", \"f\", \"g\", \"h\", \"i\", \"j\", \"k\", \"l\", \"m\",\n",
        "           \"n\", \"o\", \"p\", \"q\", \"r\", \"s\", \"t\", \"u\", \"v\", \"w\", \"x\", \"y\", \"z\"]\n",
        "\n",
        "numbers = [\"0\", \"1\", \"2\", \"3\", \"4\", \"5\", \"6\", \"7\", \"8\", \"9\"]\n",
        "\n",
        "symbols = ['!', '@', '#', '$', '%', '^', '&', '*', '(', ')', '-', '_', '+', '=', '{', '}',\n",
        "           '[', ']', '|', '\\\\', ':', ';', '<', '>', ',', '.', '?', '/']\n",
        "\n",
        "\n",
        "# Easy Level\n",
        "print(\"Welcome to the PyPassword Generator!\")\n",
        "nr_letters = int(input(\"How many 'letters' would you like in your password?\\n \"))\n",
        "nr_symbols = int(input(\"How many 'symbols' would you like in your password?\\n \"))\n",
        "nr_numbers = int(input(\"How many 'numbers' would you like in your password?\\n \"))\n",
        "\n",
        "# password = \"\"\n",
        "# for char in range(1, nr_letters + 1):\n",
        "#   password += random.choice(letters)\n",
        "# for char in range(1, nr_numbers + 1):\n",
        "#   password += random.choice(numbers)\n",
        "# for char in range(1, nr_symbols + 1):\n",
        "#   password += random.choice(symbols)\n",
        "# print(password)\n",
        "\n",
        "# Hard Level\n",
        "\n",
        "password_list = []\n",
        "for char in range(1, nr_letters + 1):\n",
        "  password_list.append(random.choice(letters))\n",
        "for char in range(1, nr_symbols + 1):\n",
        "  password_list.append(random.choice(symbols))\n",
        "for char in range(1, nr_numbers + 1):\n",
        "  password_list += random.choice(numbers)\n",
        "\n",
        "print(password_list)\n",
        "random.shuffle(password_list)\n",
        "print(password_list)\n",
        "\n",
        "password_string = \"\"\n",
        "for char in password_list:\n",
        "  password_string += char\n",
        "print(f\"Your password is: {password_string}\")\n"
      ],
      "metadata": {
        "colab": {
          "base_uri": "https://localhost:8080/"
        },
        "id": "m02lwku_YvM-",
        "outputId": "d44464b3-dcad-4462-a179-531f7fbe71f4"
      },
      "execution_count": null,
      "outputs": [
        {
          "output_type": "stream",
          "name": "stdout",
          "text": [
            "Welcome to the PyPassword Generator!\n",
            "How many 'letters' would you like in your password?\n",
            " 4\n",
            "How many 'numbers' would you like in your password?\n",
            " 4\n",
            "How many 'symbols' would you like in your password?\n",
            " 4\n",
            "['o', 'l', 'y', 'w', '!', '+', ';', ',', '7', '7', '9', '7']\n",
            "[',', 'y', ';', 'w', '7', 'l', '!', '7', 'o', '9', '+', '7']\n",
            "Your password is: ,y;w7l!7o9+7\n"
          ]
        }
      ]
    }
  ],
  "metadata": {
    "colab": {
      "provenance": [],
      "authorship_tag": "ABX9TyOrzpsKuSXC0Q+2a46yA0ib",
      "include_colab_link": true
    },
    "kernelspec": {
      "display_name": "Python 3",
      "name": "python3"
    },
    "language_info": {
      "name": "python"
    }
  },
  "nbformat": 4,
  "nbformat_minor": 0
}