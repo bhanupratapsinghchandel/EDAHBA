#                              PASSWORD GENERATOR PROGRAM

import random
letters = ["a", "b", "c", "d", "e", "f", "g", "h", "i", "j", "k", "l", "m",
           "n", "o", "p", "q", "r", "s", "t", "u", "v", "w", "x", "y", "z"]

numbers = ["0", "1", "2", "3", "4", "5", "6", "7", "8", "9"]

symbols = ['!', '@', '#', '$', '%', '^', '&', '*', '(', ')', '-', '_', '+', '=', '{', '}',
           '[', ']', '|', '\\', ':', ';', '<', '>', ',', '.', '?', '/']


# Easy Level
print("Welcome to the PyPassword Generator!")
nr_letters = int(input("How many 'letters' would you like in your password?\n "))
nr_numbers = int(input("How many 'numbers' would you like in your password?\n "))
nr_symbols = int(input("How many 'symbols' would you like in your password?\n "))

# password = ""
# for char in range(1, nr_letters + 1):
#   password += random.choice(letters)
# for char in range(1, nr_numbers + 1):
#   password += random.choice(numbers)
# for char in range(1, nr_symbols + 1):
#   password += random.choice(symbols)
# print(password)

# Hard Level

password_list = []
for char in range(1, nr_letters + 1):
  password_list.append(random.choice(letters))
for char in range(1, nr_symbols + 1):
  password_list.append(random.choice(symbols))
for char in range(1, nr_numbers + 1):
  password_list += random.choice(numbers)

print(password_list)
random.shuffle(password_list)
print(password_list)

password_string = ""
for char in password_list:
  password_string += char
print(f"Your password is: {password_string}")
