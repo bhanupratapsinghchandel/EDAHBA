{
  "nbformat": 4,
  "nbformat_minor": 0,
  "metadata": {
    "colab": {
      "provenance": [],
      "name": "Bhanu Pratap Singh: Password Generator Program (PYTHON)!",
      "mount_file_id": "1ZBdPydaXVLSqZ-HRzxVB9wms0ID-eIyO",
      "authorship_tag": "ABX9TyN+gy/V0Ohz9eLNI28i7G9k",
      "include_colab_link": true
    },
    "kernelspec": {
      "name": "python3",
      "display_name": "Python 3"
    },
    "language_info": {
      "name": "python"
    }
  },
  "cells": [
    {
      "cell_type": "markdown",
      "metadata": {
        "id": "view-in-github",
        "colab_type": "text"
      },
      "source": [
        "<a href=\"https://colab.research.google.com/github/bhanupratapsinghchandel/EDAHBA/blob/main/Bhanu_Pratap_Singh_Password_Generator_Program_(PYTHON)!.ipynb\" target=\"_parent\"><img src=\"https://colab.research.google.com/assets/colab-badge.svg\" alt=\"Open In Colab\"/></a>"
      ]
    },
    {
      "cell_type": "code",
      "source": [
        "#                              PASSWORD GENERATOR PROGRAM\n",
        "\n",
        "import random\n",
        "letters = [\"a\", \"b\", \"c\", \"d\", \"e\", \"f\", \"g\", \"h\", \"i\", \"j\", \"k\", \"l\", \"m\",\n",
        "           \"n\", \"o\", \"p\", \"q\", \"r\", \"s\", \"t\", \"u\", \"v\", \"w\", \"x\", \"y\", \"z\"]\n",
        "\n",
        "numbers = [\"0\", \"1\", \"2\", \"3\", \"4\", \"5\", \"6\", \"7\", \"8\", \"9\"]\n",
        "\n",
        "symbols = ['!', '@', '#', '$', '%', '^', '&', '*', '(', ')', '-', '_', '+', '=', '{', '}',\n",
        "           '[', ']', '|', '\\\\', ':', ';', '<', '>', ',', '.', '?', '/']\n",
        "\n",
        "# Easy Level\n",
        "print(\"Welcome to the PyPassword Generator!\")\n",
        "nr_letters = int(input(\"How many 'letters' would you like in your password?\\n \"))\n",
        "nr_numbers = int(input(\"How many 'numbers' would you like in your password?\\n \"))\n",
        "nr_symbols = int(input(\"How many 'symbols' would you like in your password?\\n \"))\n",
        "\n",
        "# password = \"\"\n",
        "# for char in range(1, nr_letters + 1):\n",
        "#   password += random.choice(letters)\n",
        "# for char in range(1, nr_numbers + 1):\n",
        "#   password += random.choice(numbers)\n",
        "# for char in range(1, nr_symbols + 1):\n",
        "#   password += random.choice(symbols)\n",
        "# print(password)\n",
        "\n",
        "# Hard Level\n",
        "\n",
        "password_list = []\n",
        "for char in range(1, nr_letters + 1):\n",
        "  password_list.append(random.choice(letters))\n",
        "for char in range(1, nr_symbols + 1):\n",
        "  password_list.append(random.choice(symbols))\n",
        "for char in range(1, nr_numbers + 1):\n",
        "  password_list += random.choice(numbers)\n",
        "\n",
        "print(password_list)\n",
        "random.shuffle(password_list)\n",
        "print(password_list)\n",
        "\n",
        "password_string = \"\"\n",
        "for char in password_list:\n",
        "  password_string += char\n",
        "print(f\"Your password is: {password_string}\")\n"
      ],
      "metadata": {
        "colab": {
          "base_uri": "https://localhost:8080/"
        },
        "id": "SilpiEwxSt-7",
        "outputId": "267ec8dd-5560-41ef-f913-cdcc01cd32a5"
      },
      "execution_count": 2,
      "outputs": [
        {
          "output_type": "stream",
          "name": "stdout",
          "text": [
            "Welcome to the PyPassword Generator!\n",
            "How many 'letters' would you like in your password?\n",
            " 5\n",
            "How many 'numbers' would you like in your password?\n",
            " 5\n",
            "How many 'symbols' would you like in your password?\n",
            " 5\n",
            "['x', 'd', 'o', 'i', 'r', '!', '{', '&', ':', '-', '5', '3', '0', '3', '7']\n",
            "['i', '&', ':', '5', '0', 'd', 'r', '!', '7', 'o', '3', '{', '-', '3', 'x']\n",
            "Your password is: i&:50dr!7o3{-3x\n"
          ]
        }
      ]
    }
  ]
}