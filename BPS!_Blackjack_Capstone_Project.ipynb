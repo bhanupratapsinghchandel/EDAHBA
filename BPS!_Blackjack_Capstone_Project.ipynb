{
  "nbformat": 4,
  "nbformat_minor": 0,
  "metadata": {
    "colab": {
      "provenance": [],
      "authorship_tag": "ABX9TyOD+lqDLgL6xbjnT33WUPgq",
      "include_colab_link": true
    },
    "kernelspec": {
      "name": "python3",
      "display_name": "Python 3"
    },
    "language_info": {
      "name": "python"
    }
  },
  "cells": [
    {
      "cell_type": "markdown",
      "metadata": {
        "id": "view-in-github",
        "colab_type": "text"
      },
      "source": [
        "<a href=\"https://colab.research.google.com/github/bhanupratapsinghchandel/EDAHBA/blob/main/BPS!_Blackjack_Capstone_Project.ipynb\" target=\"_parent\"><img src=\"https://colab.research.google.com/assets/colab-badge.svg\" alt=\"Open In Colab\"/></a>"
      ]
    },
    {
      "cell_type": "code",
      "execution_count": 4,
      "metadata": {
        "colab": {
          "base_uri": "https://localhost:8080/"
        },
        "id": "HZMClaeDqh7N",
        "outputId": "f6de8a6c-21c7-41ec-eacd-5136da18a8e5"
      },
      "outputs": [
        {
          "name": "stdout",
          "output_type": "stream",
          "text": [
            "Do you want to play a game of Blackjack? Type 'y' or 'n': y\n",
            "\n",
            ".------.            _     _            _    _            _    \n",
            "|A_  _ |.          | |   | |          | |  (_)          | |   \n",
            "|( \\/ ).-----.     | |__ | | __ _  ___| | ___  __ _  ___| | __\n",
            "| \\  /|K /\\  |     | '_ \\| |/ _` |/ __| |/ / |/ _` |/ __| |/ /\n",
            "|  \\/ | /  \\ |     | |_) | | (_| | (__|   <| | (_| | (__|   < \n",
            "`-----| \\  / |     |_.__/|_|\\__,_|\\___|_|\\_\\ |\\__,_|\\___|_|\\_\\\n",
            "      |  \\/ K|                            _/ |                \n",
            "      `------'                           |__/           \n",
            "\n",
            "   Your cards: [9, 6], current score: 15\n",
            "   Computer's first card: 9\n",
            "Type 'y' to get another card, type 'n' to pass: y\n",
            "   Your cards: [9, 6, 2], current score: 17\n",
            "   Computer's first card: 9\n",
            "Type 'y' to get another card, type 'n' to pass: n\n",
            "   Your final hand: [9, 6, 2], final score: 17\n",
            "   Computer's final hand: [9, 6, 7], final score: 22\n",
            "Opponent went over. You win 😁\n",
            "Do you want to play a game of Blackjack? Type 'y' or 'n': y\n",
            "\n",
            ".------.            _     _            _    _            _    \n",
            "|A_  _ |.          | |   | |          | |  (_)          | |   \n",
            "|( \\/ ).-----.     | |__ | | __ _  ___| | ___  __ _  ___| | __\n",
            "| \\  /|K /\\  |     | '_ \\| |/ _` |/ __| |/ / |/ _` |/ __| |/ /\n",
            "|  \\/ | /  \\ |     | |_) | | (_| | (__|   <| | (_| | (__|   < \n",
            "`-----| \\  / |     |_.__/|_|\\__,_|\\___|_|\\_\\ |\\__,_|\\___|_|\\_\\\n",
            "      |  \\/ K|                            _/ |                \n",
            "      `------'                           |__/           \n",
            "\n",
            "   Your cards: [9, 2], current score: 11\n",
            "   Computer's first card: 10\n",
            "Type 'y' to get another card, type 'n' to pass: y\n",
            "   Your cards: [9, 2, 5], current score: 16\n",
            "   Computer's first card: 10\n",
            "Type 'y' to get another card, type 'n' to pass: n\n",
            "   Your final hand: [9, 2, 5], final score: 16\n",
            "   Computer's final hand: [10, 10], final score: 20\n",
            "You lose 😤\n",
            "Do you want to play a game of Blackjack? Type 'y' or 'n': n\n"
          ]
        }
      ],
      "source": [
        "# Blackjack Program\n",
        "\n",
        "logo = \"\"\"\n",
        ".------.            _     _            _    _            _\n",
        "|A_  _ |.          | |   | |          | |  (_)          | |\n",
        "|( \\/ ).-----.     | |__ | | __ _  ___| | ___  __ _  ___| | __\n",
        "| \\  /|K /\\  |     | '_ \\| |/ _` |/ __| |/ / |/ _` |/ __| |/ /\n",
        "|  \\/ | /  \\ |     | |_) | | (_| | (__|   <| | (_| | (__|   <\n",
        "`-----| \\  / |     |_.__/|_|\\__,_|\\___|_|\\_\\ |\\__,_|\\___|_|\\_\\\\\n",
        "      |  \\/ K|                            _/ |\n",
        "      `------'                           |__/\n",
        "\"\"\"\n",
        "\n",
        "import random\n",
        "\n",
        "def deal_card():\n",
        "  \"\"\"Returns a random card from the deck.\"\"\"\n",
        "  cards = [11, 2, 3, 4, 5, 6, 7, 8, 9, 10, 10, 10, 10]\n",
        "  card = random.choice(cards)\n",
        "  return card\n",
        "\n",
        "def calculate_score(cards):\n",
        "  \"\"\"Take a list of cards and return the score calculated from the cards\"\"\"\n",
        "\n",
        "  if sum(cards) == 21 and len(cards) == 2:\n",
        "    return 0\n",
        "\n",
        "  if 11 in cards and sum(cards) > 21:\n",
        "    cards.remove(11)\n",
        "    cards.append(1)\n",
        "  return sum(cards)\n",
        "\n",
        "def compare(user_score, computer_score):\n",
        "  if user_score > 21 and computer_score > 21:\n",
        "    return \"You went over. You lose 😤\"\n",
        "\n",
        "  if user_score == computer_score:\n",
        "    return \"Draw 🙃\"\n",
        "  elif computer_score == 0:\n",
        "    return \"Lose, opponent has Blackjack 😱\"\n",
        "  elif user_score == 0:\n",
        "    return \"Win with a Blackjack 😎\"\n",
        "  elif user_score > 21:\n",
        "    return \"You went over. You lose 😭\"\n",
        "  elif computer_score > 21:\n",
        "    return \"Opponent went over. You win 😁\"\n",
        "  elif user_score > computer_score:\n",
        "    return \"You win 😃\"\n",
        "  else:\n",
        "    return \"You lose 😤\"\n",
        "\n",
        "def play_game():\n",
        "\n",
        "  print(logo)\n",
        "\n",
        "  user_cards = []\n",
        "  computer_cards = []\n",
        "  is_game_over = False\n",
        "\n",
        "  for _ in range(2):\n",
        "    user_cards.append(deal_card())\n",
        "    computer_cards.append(deal_card())\n",
        "\n",
        "  while not is_game_over:\n",
        "    user_score = calculate_score(user_cards)\n",
        "    computer_score = calculate_score(computer_cards)\n",
        "    print(f\"   Your cards: {user_cards}, current score: {user_score}\")\n",
        "    print(f\"   Computer's first card: {computer_cards[0]}\")\n",
        "\n",
        "    if user_score == 0 or computer_score == 0 or user_score > 21:\n",
        "      is_game_over = True\n",
        "    else:\n",
        "      user_should_deal = input(\"Type 'y' to get another card, type 'n' to pass: \")\n",
        "      if user_should_deal == \"y\":\n",
        "        user_cards.append(deal_card())\n",
        "      else:\n",
        "        is_game_over = True\n",
        "\n",
        "  while computer_score != 0 and computer_score < 17:\n",
        "    computer_cards.append(deal_card())\n",
        "    computer_score = calculate_score(computer_cards)\n",
        "\n",
        "  print(f\"   Your final hand: {user_cards}, final score: {user_score}\")\n",
        "  print(f\"   Computer's final hand: {computer_cards}, final score: {computer_score}\")\n",
        "  print(compare(user_score, computer_score))\n",
        "\n",
        "while input(\"Do you want to play a game of Blackjack? Type 'y' or 'n': \") == \"y\":\n",
        "  play_game()\n"
      ]
    },
    {
      "cell_type": "code",
      "source": [],
      "metadata": {
        "id": "s2C2g8hYsG-J"
      },
      "execution_count": null,
      "outputs": []
    }
  ]
}