{
  "nbformat": 4,
  "nbformat_minor": 0,
  "metadata": {
    "colab": {
      "provenance": [],
      "toc_visible": true,
      "authorship_tag": "ABX9TyOKWr9XPHQc0X50Ahxo5Rwb",
      "include_colab_link": true
    },
    "kernelspec": {
      "name": "python3",
      "display_name": "Python 3"
    },
    "language_info": {
      "name": "python"
    }
  },
  "cells": [
    {
      "cell_type": "markdown",
      "metadata": {
        "id": "view-in-github",
        "colab_type": "text"
      },
      "source": [
        "<a href=\"https://colab.research.google.com/github/bhanupratapsinghchandel/EDAHBA/blob/main/BPS!_Bidding_Aution_Program(Python).ipynb\" target=\"_parent\"><img src=\"https://colab.research.google.com/assets/colab-badge.svg\" alt=\"Open In Colab\"/></a>"
      ]
    },
    {
      "cell_type": "markdown",
      "source": [
        "# Bidding aution:"
      ],
      "metadata": {
        "id": "cTrURTsZ6Nue"
      }
    },
    {
      "cell_type": "code",
      "execution_count": 6,
      "metadata": {
        "colab": {
          "base_uri": "https://localhost:8080/"
        },
        "id": "13JQ06QH1pdE",
        "outputId": "379377bb-31ba-48cb-b219-e7660aa82887"
      },
      "outputs": [
        {
          "output_type": "stream",
          "name": "stdout",
          "text": [
            "\n",
            "                         ___________\n",
            "                         \\         /\n",
            "                          )_______(\n",
            "                          |\"\"\"\"\"\"\"|_.-._,.---------.,_.-._\n",
            "                          |       | | |               | | ''-.\n",
            "                          |       |_| |_             _| |_..-'\n",
            "                          |_______| '-' `'---------'` '-'\n",
            "                          )\"\"\"\"\"\"\"(\n",
            "                         /_________\\\n",
            "                       .-------------.\n",
            "                      /_______________\\\n",
            "\n",
            "What is your name? \n",
            "bhanu\n",
            "What is your price? $753\n",
            "Are there any other bidder? type 'yes' or 'no'.\n",
            "yes\n",
            "What is your name? \n",
            "pratap\n",
            "What is your price? $159\n",
            "Are there any other bidder? type 'yes' or 'no'.\n",
            "yes\n",
            "What is your name? \n",
            "singh\n",
            "What is your price? $456\n",
            "Are there any other bidder? type 'yes' or 'no'.\n",
            "yes\n",
            "What is your name? \n",
            "chandel\n",
            "What is your price? $852\n",
            "Are there any other bidder? type 'yes' or 'no'.\n",
            "yes\n",
            "What is your name? \n",
            "gogo\n",
            "What is your price? $123\n",
            "Are there any other bidder? type 'yes' or 'no'.\n",
            "no\n",
            "The winner is chandel with a bid of $852.\n"
          ]
        }
      ],
      "source": [
        "\n",
        "\n",
        "logo = '''\n",
        "                         ___________\n",
        "                         \\         /\n",
        "                          )_______(\n",
        "                          |\"\"\"\"\"\"\"|_.-._,.---------.,_.-._\n",
        "                          |       | | |               | | ''-.\n",
        "                          |       |_| |_             _| |_..-'\n",
        "                          |_______| '-' `'---------'` '-'\n",
        "                          )\"\"\"\"\"\"\"(\n",
        "                         /_________\\\\\n",
        "                       .-------------.\n",
        "                      /_______________\\\\\n",
        "'''\n",
        "\n",
        "print(logo)\n",
        "\n",
        "bids = {}\n",
        "bidding_finished = False\n",
        "\n",
        "def find_highest_bidder(bidding_record):\n",
        "  highest_bid = 0\n",
        "  winner = \"\"\n",
        "  for bidder in bidding_record:\n",
        "    bid_amount = bidding_record[bidder]\n",
        "    if bid_amount > highest_bid:\n",
        "      highest_bid = bid_amount\n",
        "      winner = bidder\n",
        "\n",
        "  print(f\"The winner is {winner} with a bid of ${highest_bid}.\")\n",
        "\n",
        "\n",
        "while not bidding_finished:\n",
        "  name = input(\"What is your name? \\n\")\n",
        "  price = int(input(\"What is your price? $\"))\n",
        "  bids[name] = price\n",
        "  should_continue = input(\"Are there any other bidder? type 'yes' or 'no'.\\n\")\n",
        "  if should_continue == 'no':\n",
        "    bidding_finished = True\n",
        "    find_highest_bidder(bids)\n"
      ]
    }
  ]
}